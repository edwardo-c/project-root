{
 "cells": [
  {
   "cell_type": "code",
   "execution_count": null,
   "id": "cd3fb8f0",
   "metadata": {},
   "outputs": [],
   "source": [
    "# Notebook Dev Setup\n",
    "%load_ext autoreload\n",
    "%autoreload 2\n",
    "\n",
    "import sys, os\n",
    "sys.path.append(os.path.abspath(\"..\"))  # Go up one level to root\n",
    "\n",
    "def add_project_root():\n",
    "    root = os.path.abspath(\"..\")\n",
    "    if root not in sys.path:\n",
    "        sys.path.append(root)\n",
    "\n",
    "def clean_sys_path():\n",
    "    from collections import OrderedDict\n",
    "    sys.path[:] = list(OrderedDict.fromkeys(sys.path))\n",
    "\n",
    "add_project_root()\n",
    "clean_sys_path()\n",
    "\n"
   ]
  },
  {
   "cell_type": "code",
   "execution_count": 25,
   "id": "d1b76a16",
   "metadata": {},
   "outputs": [],
   "source": [
    "from pos_xref.process.fuzzy_matching import FuzzyMatcher\n",
    "import pandas as pd\n",
    "\n",
    "direct_data = {'acct_num':['AMZ135664'], \n",
    "            'customer_name': ['AMAZON DIRECT']}\n",
    "direct_df = pd.DataFrame(direct_data)\n",
    "\n",
    "foreign_data = {'acct_num':[None, None], \n",
    "                'customer_name':['AMAZON LLC', 'AMAZON DC']}\n",
    "foreign_df = pd.DataFrame(foreign_data)\n",
    "\n",
    "matcher = FuzzyMatcher(direct_df, foreign_df, match_col='customer_name')\n",
    "matcher.run()"
   ]
  },
  {
   "cell_type": "code",
   "execution_count": 26,
   "id": "6158be38",
   "metadata": {},
   "outputs": [
    {
     "data": {
      "application/vnd.microsoft.datawrangler.viewer.v0+json": {
       "columns": [
        {
         "name": "index",
         "rawType": "int64",
         "type": "integer"
        },
        {
         "name": "acct_num",
         "rawType": "object",
         "type": "unknown"
        },
        {
         "name": "customer_name",
         "rawType": "object",
         "type": "string"
        },
        {
         "name": "fuzzy_matches",
         "rawType": "object",
         "type": "unknown"
        }
       ],
       "ref": "132891d0-b26e-48db-bf76-b1c37c07e739",
       "rows": [
        [
         "0",
         "AMZ135664",
         "AMAZON DIRECT",
         "[('AMAZON DIRECT', 100.0, 1), ('AMAZON DC', 81.81818181818181, 2)]"
        ],
        [
         "1",
         null,
         "AMAZON LLC",
         "[('AMAZON LLC', 100.0, 0), ('AMAZON DC', 84.21052631578947, 2)]"
        ],
        [
         "2",
         null,
         "AMAZON DC",
         "[('AMAZON DC', 100.0, 2), ('AMAZON LLC', 84.21052631578947, 0), ('AMAZON DIRECT', 81.81818181818181, 1)]"
        ]
       ],
       "shape": {
        "columns": 3,
        "rows": 3
       }
      },
      "text/html": [
       "<div>\n",
       "<style scoped>\n",
       "    .dataframe tbody tr th:only-of-type {\n",
       "        vertical-align: middle;\n",
       "    }\n",
       "\n",
       "    .dataframe tbody tr th {\n",
       "        vertical-align: top;\n",
       "    }\n",
       "\n",
       "    .dataframe thead th {\n",
       "        text-align: right;\n",
       "    }\n",
       "</style>\n",
       "<table border=\"1\" class=\"dataframe\">\n",
       "  <thead>\n",
       "    <tr style=\"text-align: right;\">\n",
       "      <th></th>\n",
       "      <th>acct_num</th>\n",
       "      <th>customer_name</th>\n",
       "      <th>fuzzy_matches</th>\n",
       "    </tr>\n",
       "  </thead>\n",
       "  <tbody>\n",
       "    <tr>\n",
       "      <th>0</th>\n",
       "      <td>AMZ135664</td>\n",
       "      <td>AMAZON DIRECT</td>\n",
       "      <td>[(AMAZON DIRECT, 100.0, 1), (AMAZON DC, 81.818...</td>\n",
       "    </tr>\n",
       "    <tr>\n",
       "      <th>1</th>\n",
       "      <td>None</td>\n",
       "      <td>AMAZON LLC</td>\n",
       "      <td>[(AMAZON LLC, 100.0, 0), (AMAZON DC, 84.210526...</td>\n",
       "    </tr>\n",
       "    <tr>\n",
       "      <th>2</th>\n",
       "      <td>None</td>\n",
       "      <td>AMAZON DC</td>\n",
       "      <td>[(AMAZON DC, 100.0, 2), (AMAZON LLC, 84.210526...</td>\n",
       "    </tr>\n",
       "  </tbody>\n",
       "</table>\n",
       "</div>"
      ],
      "text/plain": [
       "    acct_num  customer_name                                      fuzzy_matches\n",
       "0  AMZ135664  AMAZON DIRECT  [(AMAZON DIRECT, 100.0, 1), (AMAZON DC, 81.818...\n",
       "1       None     AMAZON LLC  [(AMAZON LLC, 100.0, 0), (AMAZON DC, 84.210526...\n",
       "2       None      AMAZON DC  [(AMAZON DC, 100.0, 2), (AMAZON LLC, 84.210526..."
      ]
     },
     "execution_count": 26,
     "metadata": {},
     "output_type": "execute_result"
    }
   ],
   "source": [
    "matcher.df_to_match"
   ]
  }
 ],
 "metadata": {
  "kernelspec": {
   "display_name": "venv",
   "language": "python",
   "name": "python3"
  },
  "language_info": {
   "codemirror_mode": {
    "name": "ipython",
    "version": 3
   },
   "file_extension": ".py",
   "mimetype": "text/x-python",
   "name": "python",
   "nbconvert_exporter": "python",
   "pygments_lexer": "ipython3",
   "version": "3.12.6"
  }
 },
 "nbformat": 4,
 "nbformat_minor": 5
}
