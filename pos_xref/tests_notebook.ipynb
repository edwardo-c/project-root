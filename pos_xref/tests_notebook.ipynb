{
 "cells": [
  {
   "cell_type": "code",
   "execution_count": 63,
   "id": "cd3fb8f0",
   "metadata": {},
   "outputs": [
    {
     "name": "stdout",
     "output_type": "stream",
     "text": [
      "The autoreload extension is already loaded. To reload it, use:\n",
      "  %reload_ext autoreload\n"
     ]
    }
   ],
   "source": [
    "# Notebook Dev Setup\n",
    "%load_ext autoreload\n",
    "%autoreload 2\n",
    "\n",
    "import sys, os\n",
    "sys.path.append(os.path.abspath(\"..\"))  # Go up one level to root\n",
    "\n",
    "import sys, os\n",
    "\n",
    "def add_project_root():\n",
    "    root = os.path.abspath(\"..\")\n",
    "    if root not in sys.path:\n",
    "        sys.path.append(root)\n",
    "\n",
    "def clean_sys_path():\n",
    "    from collections import OrderedDict\n",
    "    sys.path[:] = list(OrderedDict.fromkeys(sys.path))\n",
    "\n",
    "add_project_root()\n",
    "clean_sys_path()\n",
    "\n",
    "test_env = True"
   ]
  },
  {
   "cell_type": "code",
   "execution_count": 32,
   "id": "774af1dc",
   "metadata": {},
   "outputs": [
    {
     "data": {
      "application/vnd.microsoft.datawrangler.viewer.v0+json": {
       "columns": [
        {
         "name": "index",
         "rawType": "int64",
         "type": "integer"
        },
        {
         "name": "normalized_name",
         "rawType": "object",
         "type": "string"
        },
        {
         "name": "customer_name",
         "rawType": "object",
         "type": "string"
        },
        {
         "name": "bill_to_postal_code",
         "rawType": "object",
         "type": "unknown"
        },
        {
         "name": "bill_to_state",
         "rawType": "object",
         "type": "unknown"
        }
       ],
       "ref": "4f6985ef-ca36-41f6-ad62-3fe5b5843f94",
       "rows": [
        [
         "0",
         "amazon",
         "AMAZON LLC.",
         null,
         null
        ],
        [
         "1",
         "amazon",
         "AMAZON DC 123",
         null,
         null
        ],
        [
         "2",
         "test company pro",
         "TEST COMPANY PRO LLC.",
         null,
         null
        ],
        [
         "3",
         "test company pro",
         "TEST CO PRO LLC.",
         null,
         null
        ],
        [
         "0",
         "test company pro",
         "TEST COMPANY PRO INC.",
         null,
         null
        ],
        [
         "0",
         "divinified   east",
         "DIVINIFIED INC - EAST",
         "10001",
         "NY"
        ],
        [
         "1",
         "divinified  west region",
         "DIVINIFIED - WEST REGION",
         "90210",
         "CA"
        ],
        [
         "3",
         "apple corporate",
         "APPLE CORPORATE",
         "95014",
         "CA"
        ],
        [
         "4",
         "video sys",
         "****VIDEO SYS INC",
         "L3R 4C1",
         "ON"
        ],
        [
         "5",
         "video systems",
         "VIDEO SYSTEMS",
         "L3R 4C1",
         "ON"
        ],
        [
         "6",
         "display tech",
         "DISPLAY TECH LTD",
         "60502",
         "IL"
        ],
        [
         "7",
         "display  techniques",
         "      DISPLAY  TECHNIQUES LTD",
         "60502",
         "IL"
        ],
        [
         "8",
         "element displays",
         "ELEMENT DISPLAYS",
         "73128",
         "OK"
        ],
        [
         "9",
         "element display",
         "ELEMENT DISPLAY INC.",
         "73128",
         "OK"
        ],
        [
         "10",
         "global av supply",
         "GLOBAL AV SUPPLY",
         "75201",
         "TX"
        ],
        [
         "11",
         "national media group",
         "NATIONAL MEDIA GROUP",
         "77001",
         "TX"
        ],
        [
         "12",
         "elite presentation",
         "ELITE PRESENTATION INC",
         "7097",
         "NJ"
        ],
        [
         "13",
         "premier screens",
         "PREMIER SCREENS ",
         "85001",
         "AZ"
        ],
        [
         "14",
         "visual display solutions",
         "VISUAL DISPLAY SOLUTIONS",
         "80202",
         "CO"
        ],
        [
         "15",
         "display world",
         "DISPLAY WORLD",
         "89101",
         "NV"
        ],
        [
         "16",
         "core pro av",
         "CORE PRO AV",
         "60601",
         "IL"
        ],
        [
         "17",
         "nextgen technologies",
         "NEXTGEN TECHNOLOGIES",
         "98101",
         "WA"
        ],
        [
         "18",
         "future media",
         "FUTURE MEDIA LLC",
         "33101",
         "FL"
        ],
        [
         "19",
         "visionary av",
         "VISIONARY AV GRP",
         "30301",
         "GA"
        ],
        [
         "20",
         "display master",
         "DISPLAY MASTER INC",
         "27513",
         "NC"
        ],
        [
         "21",
         "the display store",
         "THE DISPLAY STORE",
         "63101",
         "MO"
        ],
        [
         "22",
         "av tech central",
         "AV TECH CENTRAL",
         "48201",
         "MI"
        ],
        [
         "23",
         "eastern digital partners",
         "EASTERN DIGITAL PARTNERS",
         "11201",
         "NY"
        ],
        [
         "24",
         "western display network",
         "WESTERN DISPLAY NETWORK",
         "95814",
         "CA"
        ]
       ],
       "shape": {
        "columns": 4,
        "rows": 29
       }
      },
      "text/html": [
       "<div>\n",
       "<style scoped>\n",
       "    .dataframe tbody tr th:only-of-type {\n",
       "        vertical-align: middle;\n",
       "    }\n",
       "\n",
       "    .dataframe tbody tr th {\n",
       "        vertical-align: top;\n",
       "    }\n",
       "\n",
       "    .dataframe thead th {\n",
       "        text-align: right;\n",
       "    }\n",
       "</style>\n",
       "<table border=\"1\" class=\"dataframe\">\n",
       "  <thead>\n",
       "    <tr style=\"text-align: right;\">\n",
       "      <th></th>\n",
       "      <th>normalized_name</th>\n",
       "      <th>customer_name</th>\n",
       "      <th>bill_to_postal_code</th>\n",
       "      <th>bill_to_state</th>\n",
       "    </tr>\n",
       "  </thead>\n",
       "  <tbody>\n",
       "    <tr>\n",
       "      <th>0</th>\n",
       "      <td>amazon</td>\n",
       "      <td>AMAZON LLC.</td>\n",
       "      <td>NaN</td>\n",
       "      <td>NaN</td>\n",
       "    </tr>\n",
       "    <tr>\n",
       "      <th>1</th>\n",
       "      <td>amazon</td>\n",
       "      <td>AMAZON DC 123</td>\n",
       "      <td>NaN</td>\n",
       "      <td>NaN</td>\n",
       "    </tr>\n",
       "    <tr>\n",
       "      <th>2</th>\n",
       "      <td>test company pro</td>\n",
       "      <td>TEST COMPANY PRO LLC.</td>\n",
       "      <td>NaN</td>\n",
       "      <td>NaN</td>\n",
       "    </tr>\n",
       "    <tr>\n",
       "      <th>3</th>\n",
       "      <td>test company pro</td>\n",
       "      <td>TEST CO PRO LLC.</td>\n",
       "      <td>NaN</td>\n",
       "      <td>NaN</td>\n",
       "    </tr>\n",
       "    <tr>\n",
       "      <th>0</th>\n",
       "      <td>test company pro</td>\n",
       "      <td>TEST COMPANY PRO INC.</td>\n",
       "      <td>NaN</td>\n",
       "      <td>NaN</td>\n",
       "    </tr>\n",
       "    <tr>\n",
       "      <th>0</th>\n",
       "      <td>divinified   east</td>\n",
       "      <td>DIVINIFIED INC - EAST</td>\n",
       "      <td>10001</td>\n",
       "      <td>NY</td>\n",
       "    </tr>\n",
       "    <tr>\n",
       "      <th>1</th>\n",
       "      <td>divinified  west region</td>\n",
       "      <td>DIVINIFIED - WEST REGION</td>\n",
       "      <td>90210</td>\n",
       "      <td>CA</td>\n",
       "    </tr>\n",
       "    <tr>\n",
       "      <th>3</th>\n",
       "      <td>apple corporate</td>\n",
       "      <td>APPLE CORPORATE</td>\n",
       "      <td>95014</td>\n",
       "      <td>CA</td>\n",
       "    </tr>\n",
       "    <tr>\n",
       "      <th>4</th>\n",
       "      <td>video sys</td>\n",
       "      <td>****VIDEO SYS INC</td>\n",
       "      <td>L3R 4C1</td>\n",
       "      <td>ON</td>\n",
       "    </tr>\n",
       "    <tr>\n",
       "      <th>5</th>\n",
       "      <td>video systems</td>\n",
       "      <td>VIDEO SYSTEMS</td>\n",
       "      <td>L3R 4C1</td>\n",
       "      <td>ON</td>\n",
       "    </tr>\n",
       "    <tr>\n",
       "      <th>6</th>\n",
       "      <td>display tech</td>\n",
       "      <td>DISPLAY TECH LTD</td>\n",
       "      <td>60502</td>\n",
       "      <td>IL</td>\n",
       "    </tr>\n",
       "    <tr>\n",
       "      <th>7</th>\n",
       "      <td>display  techniques</td>\n",
       "      <td>DISPLAY  TECHNIQUES LTD</td>\n",
       "      <td>60502</td>\n",
       "      <td>IL</td>\n",
       "    </tr>\n",
       "    <tr>\n",
       "      <th>8</th>\n",
       "      <td>element displays</td>\n",
       "      <td>ELEMENT DISPLAYS</td>\n",
       "      <td>73128</td>\n",
       "      <td>OK</td>\n",
       "    </tr>\n",
       "    <tr>\n",
       "      <th>9</th>\n",
       "      <td>element display</td>\n",
       "      <td>ELEMENT DISPLAY INC.</td>\n",
       "      <td>73128</td>\n",
       "      <td>OK</td>\n",
       "    </tr>\n",
       "    <tr>\n",
       "      <th>10</th>\n",
       "      <td>global av supply</td>\n",
       "      <td>GLOBAL AV SUPPLY</td>\n",
       "      <td>75201</td>\n",
       "      <td>TX</td>\n",
       "    </tr>\n",
       "    <tr>\n",
       "      <th>11</th>\n",
       "      <td>national media group</td>\n",
       "      <td>NATIONAL MEDIA GROUP</td>\n",
       "      <td>77001</td>\n",
       "      <td>TX</td>\n",
       "    </tr>\n",
       "    <tr>\n",
       "      <th>12</th>\n",
       "      <td>elite presentation</td>\n",
       "      <td>ELITE PRESENTATION INC</td>\n",
       "      <td>7097</td>\n",
       "      <td>NJ</td>\n",
       "    </tr>\n",
       "    <tr>\n",
       "      <th>13</th>\n",
       "      <td>premier screens</td>\n",
       "      <td>PREMIER SCREENS</td>\n",
       "      <td>85001</td>\n",
       "      <td>AZ</td>\n",
       "    </tr>\n",
       "    <tr>\n",
       "      <th>14</th>\n",
       "      <td>visual display solutions</td>\n",
       "      <td>VISUAL DISPLAY SOLUTIONS</td>\n",
       "      <td>80202</td>\n",
       "      <td>CO</td>\n",
       "    </tr>\n",
       "    <tr>\n",
       "      <th>15</th>\n",
       "      <td>display world</td>\n",
       "      <td>DISPLAY WORLD</td>\n",
       "      <td>89101</td>\n",
       "      <td>NV</td>\n",
       "    </tr>\n",
       "    <tr>\n",
       "      <th>16</th>\n",
       "      <td>core pro av</td>\n",
       "      <td>CORE PRO AV</td>\n",
       "      <td>60601</td>\n",
       "      <td>IL</td>\n",
       "    </tr>\n",
       "    <tr>\n",
       "      <th>17</th>\n",
       "      <td>nextgen technologies</td>\n",
       "      <td>NEXTGEN TECHNOLOGIES</td>\n",
       "      <td>98101</td>\n",
       "      <td>WA</td>\n",
       "    </tr>\n",
       "    <tr>\n",
       "      <th>18</th>\n",
       "      <td>future media</td>\n",
       "      <td>FUTURE MEDIA LLC</td>\n",
       "      <td>33101</td>\n",
       "      <td>FL</td>\n",
       "    </tr>\n",
       "    <tr>\n",
       "      <th>19</th>\n",
       "      <td>visionary av</td>\n",
       "      <td>VISIONARY AV GRP</td>\n",
       "      <td>30301</td>\n",
       "      <td>GA</td>\n",
       "    </tr>\n",
       "    <tr>\n",
       "      <th>20</th>\n",
       "      <td>display master</td>\n",
       "      <td>DISPLAY MASTER INC</td>\n",
       "      <td>27513</td>\n",
       "      <td>NC</td>\n",
       "    </tr>\n",
       "    <tr>\n",
       "      <th>21</th>\n",
       "      <td>the display store</td>\n",
       "      <td>THE DISPLAY STORE</td>\n",
       "      <td>63101</td>\n",
       "      <td>MO</td>\n",
       "    </tr>\n",
       "    <tr>\n",
       "      <th>22</th>\n",
       "      <td>av tech central</td>\n",
       "      <td>AV TECH CENTRAL</td>\n",
       "      <td>48201</td>\n",
       "      <td>MI</td>\n",
       "    </tr>\n",
       "    <tr>\n",
       "      <th>23</th>\n",
       "      <td>eastern digital partners</td>\n",
       "      <td>EASTERN DIGITAL PARTNERS</td>\n",
       "      <td>11201</td>\n",
       "      <td>NY</td>\n",
       "    </tr>\n",
       "    <tr>\n",
       "      <th>24</th>\n",
       "      <td>western display network</td>\n",
       "      <td>WESTERN DISPLAY NETWORK</td>\n",
       "      <td>95814</td>\n",
       "      <td>CA</td>\n",
       "    </tr>\n",
       "  </tbody>\n",
       "</table>\n",
       "</div>"
      ],
      "text/plain": [
       "             normalized_name  ... bill_to_state\n",
       "0                     amazon  ...           NaN\n",
       "1                     amazon  ...           NaN\n",
       "2           test company pro  ...           NaN\n",
       "3           test company pro  ...           NaN\n",
       "0           test company pro  ...           NaN\n",
       "0          divinified   east  ...            NY\n",
       "1    divinified  west region  ...            CA\n",
       "3            apple corporate  ...            CA\n",
       "4                  video sys  ...            ON\n",
       "5              video systems  ...            ON\n",
       "6               display tech  ...            IL\n",
       "7        display  techniques  ...            IL\n",
       "8           element displays  ...            OK\n",
       "9            element display  ...            OK\n",
       "10          global av supply  ...            TX\n",
       "11      national media group  ...            TX\n",
       "12        elite presentation  ...            NJ\n",
       "13           premier screens  ...            AZ\n",
       "14  visual display solutions  ...            CO\n",
       "15             display world  ...            NV\n",
       "16               core pro av  ...            IL\n",
       "17      nextgen technologies  ...            WA\n",
       "18              future media  ...            FL\n",
       "19              visionary av  ...            GA\n",
       "20            display master  ...            NC\n",
       "21         the display store  ...            MO\n",
       "22           av tech central  ...            MI\n",
       "23  eastern digital partners  ...            NY\n",
       "24   western display network  ...            CA\n",
       "\n",
       "[29 rows x 4 columns]"
      ]
     },
     "execution_count": 32,
     "metadata": {},
     "output_type": "execute_result"
    }
   ],
   "source": [
    "'''try using merge to remove items that appear in one that do not in the other'''\n",
    "\n",
    "from pos_xref.extract.file_reader import FileReader\n",
    "direct = FileReader(test_env, 'direct')\n",
    "direct.run()\n",
    "\n",
    "pos = FileReader(test_env, 'pos_sales')\n",
    "pos.run()\n",
    "\n",
    "from pos_xref.extract.previous_matches import PreviousMatches\n",
    "pm = PreviousMatches(test_env)\n",
    "pm.run()\n",
    "\n",
    "# TODO: Convert system to match direct to foreign customers - instead of rigid system with static inputs\n",
    "# get rows in data frame one not in data frame two; optomization idea for system refactor\n",
    "import pandas as pd\n",
    "df = pd.concat([pm.df, pos.df]).drop_duplicates(subset=['normalized_name', 'customer_name'], keep=False)\n",
    "df"
   ]
  },
  {
   "cell_type": "code",
   "execution_count": 64,
   "id": "5b2dc630",
   "metadata": {},
   "outputs": [
    {
     "name": "stderr",
     "output_type": "stream",
     "text": [
      "c:\\Users\\eddiec11us\\Documents\\vs code workspaces\\project_root\\pos_xref\\extract\\process_output.py:111: FutureWarning: Setting an item of incompatible dtype is deprecated and will raise an error in a future version of pandas. Value 'DIV000001' has dtype incompatible with float64, please explicitly cast to a compatible dtype first.\n",
      "  self.fuzzy_matches_df.loc[row_index, 'acct_num'] = cust.acct_num\n",
      "c:\\Users\\eddiec11us\\Documents\\vs code workspaces\\project_root\\pos_xref\\extract\\process_output.py:121: FutureWarning: Setting an item of incompatible dtype is deprecated and will raise an error in a future version of pandas. Value 'APP000003' has dtype incompatible with float64, please explicitly cast to a compatible dtype first.\n",
      "  self.self_matches_df.loc[r_i, 'acct_num'] = cust.acct_num\n"
     ]
    }
   ],
   "source": [
    "from pos_xref.export.export import FileExporter\n",
    "fe = FileExporter(test_env)\n",
    "fe._requirements()"
   ]
  },
  {
   "cell_type": "code",
   "execution_count": 66,
   "id": "42f2d962",
   "metadata": {},
   "outputs": [
    {
     "data": {
      "application/vnd.microsoft.datawrangler.viewer.v0+json": {
       "columns": [
        {
         "name": "index",
         "rawType": "int64",
         "type": "integer"
        },
        {
         "name": "acct_num",
         "rawType": "object",
         "type": "string"
        },
        {
         "name": "normalized_name",
         "rawType": "object",
         "type": "string"
        },
        {
         "name": "customer_name",
         "rawType": "object",
         "type": "string"
        },
        {
         "name": "acct_group",
         "rawType": "float64",
         "type": "float"
        },
        {
         "name": "bill_to_state",
         "rawType": "object",
         "type": "string"
        },
        {
         "name": "bill_to_postal_code",
         "rawType": "int64",
         "type": "integer"
        },
        {
         "name": "match_type",
         "rawType": "object",
         "type": "string"
        }
       ],
       "ref": "1352fc76-8bd4-4f76-b9b9-cb22dda5b6e2",
       "rows": [
        [
         "0",
         "TST111111",
         "test company pro",
         "TEST COMPANY PRO INC.",
         null,
         "IL",
         "60502",
         "test"
        ]
       ],
       "shape": {
        "columns": 7,
        "rows": 1
       }
      },
      "text/html": [
       "<div>\n",
       "<style scoped>\n",
       "    .dataframe tbody tr th:only-of-type {\n",
       "        vertical-align: middle;\n",
       "    }\n",
       "\n",
       "    .dataframe tbody tr th {\n",
       "        vertical-align: top;\n",
       "    }\n",
       "\n",
       "    .dataframe thead th {\n",
       "        text-align: right;\n",
       "    }\n",
       "</style>\n",
       "<table border=\"1\" class=\"dataframe\">\n",
       "  <thead>\n",
       "    <tr style=\"text-align: right;\">\n",
       "      <th></th>\n",
       "      <th>acct_num</th>\n",
       "      <th>normalized_name</th>\n",
       "      <th>customer_name</th>\n",
       "      <th>acct_group</th>\n",
       "      <th>bill_to_state</th>\n",
       "      <th>bill_to_postal_code</th>\n",
       "      <th>match_type</th>\n",
       "    </tr>\n",
       "  </thead>\n",
       "  <tbody>\n",
       "    <tr>\n",
       "      <th>0</th>\n",
       "      <td>TST111111</td>\n",
       "      <td>test company pro</td>\n",
       "      <td>TEST COMPANY PRO INC.</td>\n",
       "      <td>NaN</td>\n",
       "      <td>IL</td>\n",
       "      <td>60502</td>\n",
       "      <td>test</td>\n",
       "    </tr>\n",
       "  </tbody>\n",
       "</table>\n",
       "</div>"
      ],
      "text/plain": [
       "    acct_num   normalized_name  ... bill_to_postal_code  match_type\n",
       "0  TST111111  test company pro  ...               60502        test\n",
       "\n",
       "[1 rows x 7 columns]"
      ]
     },
     "execution_count": 66,
     "metadata": {},
     "output_type": "execute_result"
    }
   ],
   "source": [
    "fe.processed_info.df"
   ]
  }
 ],
 "metadata": {
  "kernelspec": {
   "display_name": "venv",
   "language": "python",
   "name": "python3"
  },
  "language_info": {
   "codemirror_mode": {
    "name": "ipython",
    "version": 3
   },
   "file_extension": ".py",
   "mimetype": "text/x-python",
   "name": "python",
   "nbconvert_exporter": "python",
   "pygments_lexer": "ipython3",
   "version": "3.12.6"
  }
 },
 "nbformat": 4,
 "nbformat_minor": 5
}
