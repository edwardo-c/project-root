{
 "cells": [
  {
   "cell_type": "code",
   "execution_count": 3,
   "id": "cd3fb8f0",
   "metadata": {},
   "outputs": [],
   "source": [
    "# Notebook Dev Setup\n",
    "%load_ext autoreload\n",
    "%autoreload 2\n",
    "\n",
    "import sys, os\n",
    "sys.path.append(os.path.abspath(\"..\"))  # Go up one level to root\n",
    "\n",
    "import sys, os\n",
    "\n",
    "def add_project_root():\n",
    "    root = os.path.abspath(\"..\")\n",
    "    if root not in sys.path:\n",
    "        sys.path.append(root)\n",
    "\n",
    "def clean_sys_path():\n",
    "    from collections import OrderedDict\n",
    "    sys.path[:] = list(OrderedDict.fromkeys(sys.path))\n",
    "\n",
    "add_project_root()\n",
    "clean_sys_path()\n"
   ]
  },
  {
   "cell_type": "code",
   "execution_count": 14,
   "id": "e0dc2975",
   "metadata": {},
   "outputs": [
    {
     "data": {
      "application/vnd.microsoft.datawrangler.viewer.v0+json": {
       "columns": [
        {
         "name": "index",
         "rawType": "int64",
         "type": "integer"
        },
        {
         "name": "sold_to_name",
         "rawType": "object",
         "type": "string"
        },
        {
         "name": "bill_to_zip",
         "rawType": "object",
         "type": "string"
        },
        {
         "name": "bill_to_state",
         "rawType": "object",
         "type": "unknown"
        }
       ],
       "conversionMethod": "pd.DataFrame",
       "ref": "f9aab9d0-f0f5-4a2a-b146-314989262dc8",
       "rows": [
        [
         "0",
         "DIVINIFIED INC - EAST",
         "NY",
         "10001"
        ],
        [
         "1",
         "DIVINIFIED - WEST REGION",
         "CA",
         "90210"
        ],
        [
         "2",
         "APPLE CORP.",
         "CA",
         "95014-8854"
        ],
        [
         "3",
         "APPLE CORPORATE",
         "CA",
         "950148854"
        ],
        [
         "4",
         "****VIDEO SYS INC",
         "ON",
         "L3R 4C1"
        ]
       ],
       "shape": {
        "columns": 3,
        "rows": 5
       }
      },
      "text/html": [
       "<div>\n",
       "<style scoped>\n",
       "    .dataframe tbody tr th:only-of-type {\n",
       "        vertical-align: middle;\n",
       "    }\n",
       "\n",
       "    .dataframe tbody tr th {\n",
       "        vertical-align: top;\n",
       "    }\n",
       "\n",
       "    .dataframe thead th {\n",
       "        text-align: right;\n",
       "    }\n",
       "</style>\n",
       "<table border=\"1\" class=\"dataframe\">\n",
       "  <thead>\n",
       "    <tr style=\"text-align: right;\">\n",
       "      <th></th>\n",
       "      <th>sold_to_name</th>\n",
       "      <th>bill_to_zip</th>\n",
       "      <th>bill_to_state</th>\n",
       "    </tr>\n",
       "  </thead>\n",
       "  <tbody>\n",
       "    <tr>\n",
       "      <th>0</th>\n",
       "      <td>DIVINIFIED INC - EAST</td>\n",
       "      <td>NY</td>\n",
       "      <td>10001</td>\n",
       "    </tr>\n",
       "    <tr>\n",
       "      <th>1</th>\n",
       "      <td>DIVINIFIED - WEST REGION</td>\n",
       "      <td>CA</td>\n",
       "      <td>90210</td>\n",
       "    </tr>\n",
       "    <tr>\n",
       "      <th>2</th>\n",
       "      <td>APPLE CORP.</td>\n",
       "      <td>CA</td>\n",
       "      <td>95014-8854</td>\n",
       "    </tr>\n",
       "    <tr>\n",
       "      <th>3</th>\n",
       "      <td>APPLE CORPORATE</td>\n",
       "      <td>CA</td>\n",
       "      <td>950148854</td>\n",
       "    </tr>\n",
       "    <tr>\n",
       "      <th>4</th>\n",
       "      <td>****VIDEO SYS INC</td>\n",
       "      <td>ON</td>\n",
       "      <td>L3R 4C1</td>\n",
       "    </tr>\n",
       "  </tbody>\n",
       "</table>\n",
       "</div>"
      ],
      "text/plain": [
       "               sold_to_name bill_to_zip bill_to_state\n",
       "0     DIVINIFIED INC - EAST          NY         10001\n",
       "1  DIVINIFIED - WEST REGION          CA         90210\n",
       "2               APPLE CORP.          CA    95014-8854\n",
       "3           APPLE CORPORATE          CA     950148854\n",
       "4         ****VIDEO SYS INC          ON       L3R 4C1"
      ]
     },
     "execution_count": 14,
     "metadata": {},
     "output_type": "execute_result"
    }
   ],
   "source": [
    "# Return customers data frame for specified year, test output\n",
    "from pos_xref.shared.pos_config import get_raw_pos_customers\n",
    "df = get_raw_pos_customers(year=2025, test_env=True)\n",
    "df.head()"
   ]
  },
  {
   "cell_type": "code",
   "execution_count": 5,
   "id": "a9203fc3",
   "metadata": {},
   "outputs": [],
   "source": [
    "from utils.utils_io import gen_safe_excel_file\n",
    "test_file_path = r\"C:\\Users\\eddiec11us\\Documents\\Abt Neptune Price Model.xlsx\"\n",
    "new_file_path = gen_safe_excel_file(test_file_path)"
   ]
  },
  {
   "cell_type": "code",
   "execution_count": null,
   "id": "b4c3760d",
   "metadata": {},
   "outputs": [
    {
     "name": "stdout",
     "output_type": "stream",
     "text": [
      "{'column_a': 'sold_to_name', 'column_b': 'bill_to_zip', 'column_c': 'bill_to_state'}\n"
     ]
    }
   ],
   "source": [
    "# build columns test\n",
    "import pandas as pd\n",
    "from pos_xref.shared.pos_config import _build_column_rename_map\n",
    "df = pd.DataFrame({'column_a':[1,2,3], 'column_b':[4,5,6], 'column_c':[7,8,9]})\n",
    "print(_build_column_rename_map(df.columns))"
   ]
  },
  {
   "cell_type": "code",
   "execution_count": 24,
   "id": "a94882a5",
   "metadata": {},
   "outputs": [],
   "source": [
    "from pos_xref.shared.direct_config import DirectCustomersFileInfo\n",
    "from pos_xref.shared.direct_config import capture_direct_customers_df\n",
    "info = DirectCustomersFileInfo(True)\n",
    "df = capture_direct_customers_df(True)"
   ]
  },
  {
   "cell_type": "code",
   "execution_count": 9,
   "id": "c65c48fd",
   "metadata": {},
   "outputs": [],
   "source": [
    "from pos_xref.shared.combine_input_data import return_input_data\n",
    "df = return_input_data()"
   ]
  },
  {
   "cell_type": "code",
   "execution_count": 11,
   "id": "2632a31e",
   "metadata": {},
   "outputs": [
    {
     "name": "stdout",
     "output_type": "stream",
     "text": [
      "Index(['acct_num', 'customer_name', 'acct_group', 'bill_to_zip',\n",
      "       'bill_to_state'],\n",
      "      dtype='object')\n"
     ]
    },
    {
     "data": {
      "application/vnd.microsoft.datawrangler.viewer.v0+json": {
       "columns": [
        {
         "name": "index",
         "rawType": "int64",
         "type": "integer"
        },
        {
         "name": "acct_num",
         "rawType": "object",
         "type": "unknown"
        },
        {
         "name": "customer_name",
         "rawType": "object",
         "type": "string"
        },
        {
         "name": "acct_group",
         "rawType": "object",
         "type": "unknown"
        },
        {
         "name": "bill_to_zip",
         "rawType": "object",
         "type": "string"
        },
        {
         "name": "bill_to_state",
         "rawType": "object",
         "type": "unknown"
        }
       ],
       "conversionMethod": "pd.DataFrame",
       "ref": "86ed9368-4016-4fb6-a514-1d367741211a",
       "rows": [
        [
         "0",
         "DIV000001",
         "DIVINIFIED - EAST",
         "Divinified",
         "NY",
         "10001-8525"
        ],
        [
         "1",
         "DIV000002",
         "DIVINIFIED - WEST",
         "Divinified",
         "CA",
         "90210"
        ],
        [
         "2",
         "APP000003",
         "APPLE CORPORATE",
         null,
         "CA",
         "95014-8764"
        ],
        [
         "3",
         "VID000004",
         "VIDEO SYSTEMS INC",
         null,
         "ON",
         "L3R 4C1"
        ],
        [
         "4",
         "DIS000005",
         "DISPLAY TECHNIQUES LTD",
         null,
         "IL",
         "60502-1124"
        ],
        [
         "5",
         "ELE000006",
         "ELEMENT DISPLAYS INC",
         null,
         "OK",
         "73128-9487"
        ],
        [
         "0",
         null,
         "DIVINIFIED INC - EAST",
         null,
         "NY",
         "10001"
        ],
        [
         "1",
         null,
         "DIVINIFIED - WEST REGION",
         null,
         "CA",
         "90210"
        ],
        [
         "2",
         null,
         "APPLE CORP.",
         null,
         "CA",
         "95014-8854"
        ],
        [
         "3",
         null,
         "APPLE CORPORATE",
         null,
         "CA",
         "950148854"
        ],
        [
         "4",
         null,
         "****VIDEO SYS INC",
         null,
         "ON",
         "L3R 4C1"
        ],
        [
         "5",
         null,
         "VIDEO SYSTEMS",
         null,
         "ON",
         "L3R 4C1"
        ],
        [
         "6",
         null,
         "DISPLAY TECH LTD",
         null,
         "IL",
         "60502"
        ],
        [
         "7",
         null,
         "      DISPLAY  TECHNIQUES LTD",
         null,
         "IL",
         "60502"
        ],
        [
         "8",
         null,
         "ELEMENT DISPLAYS",
         null,
         "OK",
         "73128"
        ],
        [
         "9",
         null,
         "ELEMENT DISPLAY INC.",
         null,
         "OK",
         "73128"
        ],
        [
         "10",
         null,
         "GLOBAL AV SUPPLY",
         null,
         "TX",
         "75201"
        ],
        [
         "11",
         null,
         "NATIONAL MEDIA GROUP",
         null,
         "TX",
         "77001"
        ],
        [
         "12",
         null,
         "ELITE PRESENTATION INC",
         null,
         "NJ",
         "7097"
        ],
        [
         "13",
         null,
         "PREMIER SCREENS ",
         null,
         "AZ",
         "85001"
        ],
        [
         "14",
         null,
         "VISUAL DISPLAY SOLUTIONS",
         null,
         "CO",
         "80202"
        ],
        [
         "15",
         null,
         "DISPLAY WORLD",
         null,
         "NV",
         "89101-7412"
        ],
        [
         "16",
         null,
         "CORE PRO AV",
         null,
         "IL",
         "60601"
        ],
        [
         "17",
         null,
         "NEXTGEN TECHNOLOGIES",
         null,
         "WA",
         "98101"
        ],
        [
         "18",
         null,
         "FUTURE MEDIA LLC",
         null,
         "FL",
         "33101"
        ],
        [
         "19",
         null,
         "VISIONARY AV GRP",
         null,
         "GA",
         "30301"
        ],
        [
         "20",
         null,
         "DISPLAY MASTER INC",
         null,
         "NC",
         "27513"
        ],
        [
         "21",
         null,
         "THE DISPLAY STORE",
         null,
         "MO",
         "63101"
        ],
        [
         "22",
         null,
         "AV TECH CENTRAL",
         null,
         "MI",
         "48201"
        ],
        [
         "23",
         null,
         "EASTERN DIGITAL PARTNERS",
         null,
         "NY",
         "11201"
        ],
        [
         "24",
         null,
         "WESTERN DISPLAY NETWORK",
         null,
         "CA",
         "95814"
        ]
       ],
       "shape": {
        "columns": 5,
        "rows": 31
       }
      },
      "text/html": [
       "<div>\n",
       "<style scoped>\n",
       "    .dataframe tbody tr th:only-of-type {\n",
       "        vertical-align: middle;\n",
       "    }\n",
       "\n",
       "    .dataframe tbody tr th {\n",
       "        vertical-align: top;\n",
       "    }\n",
       "\n",
       "    .dataframe thead th {\n",
       "        text-align: right;\n",
       "    }\n",
       "</style>\n",
       "<table border=\"1\" class=\"dataframe\">\n",
       "  <thead>\n",
       "    <tr style=\"text-align: right;\">\n",
       "      <th></th>\n",
       "      <th>acct_num</th>\n",
       "      <th>customer_name</th>\n",
       "      <th>acct_group</th>\n",
       "      <th>bill_to_zip</th>\n",
       "      <th>bill_to_state</th>\n",
       "    </tr>\n",
       "  </thead>\n",
       "  <tbody>\n",
       "    <tr>\n",
       "      <th>0</th>\n",
       "      <td>DIV000001</td>\n",
       "      <td>DIVINIFIED - EAST</td>\n",
       "      <td>Divinified</td>\n",
       "      <td>NY</td>\n",
       "      <td>10001-8525</td>\n",
       "    </tr>\n",
       "    <tr>\n",
       "      <th>1</th>\n",
       "      <td>DIV000002</td>\n",
       "      <td>DIVINIFIED - WEST</td>\n",
       "      <td>Divinified</td>\n",
       "      <td>CA</td>\n",
       "      <td>90210</td>\n",
       "    </tr>\n",
       "    <tr>\n",
       "      <th>2</th>\n",
       "      <td>APP000003</td>\n",
       "      <td>APPLE CORPORATE</td>\n",
       "      <td>NaN</td>\n",
       "      <td>CA</td>\n",
       "      <td>95014-8764</td>\n",
       "    </tr>\n",
       "    <tr>\n",
       "      <th>3</th>\n",
       "      <td>VID000004</td>\n",
       "      <td>VIDEO SYSTEMS INC</td>\n",
       "      <td>NaN</td>\n",
       "      <td>ON</td>\n",
       "      <td>L3R 4C1</td>\n",
       "    </tr>\n",
       "    <tr>\n",
       "      <th>4</th>\n",
       "      <td>DIS000005</td>\n",
       "      <td>DISPLAY TECHNIQUES LTD</td>\n",
       "      <td>NaN</td>\n",
       "      <td>IL</td>\n",
       "      <td>60502-1124</td>\n",
       "    </tr>\n",
       "    <tr>\n",
       "      <th>5</th>\n",
       "      <td>ELE000006</td>\n",
       "      <td>ELEMENT DISPLAYS INC</td>\n",
       "      <td>NaN</td>\n",
       "      <td>OK</td>\n",
       "      <td>73128-9487</td>\n",
       "    </tr>\n",
       "    <tr>\n",
       "      <th>0</th>\n",
       "      <td>NaN</td>\n",
       "      <td>DIVINIFIED INC - EAST</td>\n",
       "      <td>NaN</td>\n",
       "      <td>NY</td>\n",
       "      <td>10001</td>\n",
       "    </tr>\n",
       "    <tr>\n",
       "      <th>1</th>\n",
       "      <td>NaN</td>\n",
       "      <td>DIVINIFIED - WEST REGION</td>\n",
       "      <td>NaN</td>\n",
       "      <td>CA</td>\n",
       "      <td>90210</td>\n",
       "    </tr>\n",
       "    <tr>\n",
       "      <th>2</th>\n",
       "      <td>NaN</td>\n",
       "      <td>APPLE CORP.</td>\n",
       "      <td>NaN</td>\n",
       "      <td>CA</td>\n",
       "      <td>95014-8854</td>\n",
       "    </tr>\n",
       "    <tr>\n",
       "      <th>3</th>\n",
       "      <td>NaN</td>\n",
       "      <td>APPLE CORPORATE</td>\n",
       "      <td>NaN</td>\n",
       "      <td>CA</td>\n",
       "      <td>950148854</td>\n",
       "    </tr>\n",
       "    <tr>\n",
       "      <th>4</th>\n",
       "      <td>NaN</td>\n",
       "      <td>****VIDEO SYS INC</td>\n",
       "      <td>NaN</td>\n",
       "      <td>ON</td>\n",
       "      <td>L3R 4C1</td>\n",
       "    </tr>\n",
       "    <tr>\n",
       "      <th>5</th>\n",
       "      <td>NaN</td>\n",
       "      <td>VIDEO SYSTEMS</td>\n",
       "      <td>NaN</td>\n",
       "      <td>ON</td>\n",
       "      <td>L3R 4C1</td>\n",
       "    </tr>\n",
       "    <tr>\n",
       "      <th>6</th>\n",
       "      <td>NaN</td>\n",
       "      <td>DISPLAY TECH LTD</td>\n",
       "      <td>NaN</td>\n",
       "      <td>IL</td>\n",
       "      <td>60502</td>\n",
       "    </tr>\n",
       "    <tr>\n",
       "      <th>7</th>\n",
       "      <td>NaN</td>\n",
       "      <td>DISPLAY  TECHNIQUES LTD</td>\n",
       "      <td>NaN</td>\n",
       "      <td>IL</td>\n",
       "      <td>60502</td>\n",
       "    </tr>\n",
       "    <tr>\n",
       "      <th>8</th>\n",
       "      <td>NaN</td>\n",
       "      <td>ELEMENT DISPLAYS</td>\n",
       "      <td>NaN</td>\n",
       "      <td>OK</td>\n",
       "      <td>73128</td>\n",
       "    </tr>\n",
       "    <tr>\n",
       "      <th>9</th>\n",
       "      <td>NaN</td>\n",
       "      <td>ELEMENT DISPLAY INC.</td>\n",
       "      <td>NaN</td>\n",
       "      <td>OK</td>\n",
       "      <td>73128</td>\n",
       "    </tr>\n",
       "    <tr>\n",
       "      <th>10</th>\n",
       "      <td>NaN</td>\n",
       "      <td>GLOBAL AV SUPPLY</td>\n",
       "      <td>NaN</td>\n",
       "      <td>TX</td>\n",
       "      <td>75201</td>\n",
       "    </tr>\n",
       "    <tr>\n",
       "      <th>11</th>\n",
       "      <td>NaN</td>\n",
       "      <td>NATIONAL MEDIA GROUP</td>\n",
       "      <td>NaN</td>\n",
       "      <td>TX</td>\n",
       "      <td>77001</td>\n",
       "    </tr>\n",
       "    <tr>\n",
       "      <th>12</th>\n",
       "      <td>NaN</td>\n",
       "      <td>ELITE PRESENTATION INC</td>\n",
       "      <td>NaN</td>\n",
       "      <td>NJ</td>\n",
       "      <td>7097</td>\n",
       "    </tr>\n",
       "    <tr>\n",
       "      <th>13</th>\n",
       "      <td>NaN</td>\n",
       "      <td>PREMIER SCREENS</td>\n",
       "      <td>NaN</td>\n",
       "      <td>AZ</td>\n",
       "      <td>85001</td>\n",
       "    </tr>\n",
       "    <tr>\n",
       "      <th>14</th>\n",
       "      <td>NaN</td>\n",
       "      <td>VISUAL DISPLAY SOLUTIONS</td>\n",
       "      <td>NaN</td>\n",
       "      <td>CO</td>\n",
       "      <td>80202</td>\n",
       "    </tr>\n",
       "    <tr>\n",
       "      <th>15</th>\n",
       "      <td>NaN</td>\n",
       "      <td>DISPLAY WORLD</td>\n",
       "      <td>NaN</td>\n",
       "      <td>NV</td>\n",
       "      <td>89101-7412</td>\n",
       "    </tr>\n",
       "    <tr>\n",
       "      <th>16</th>\n",
       "      <td>NaN</td>\n",
       "      <td>CORE PRO AV</td>\n",
       "      <td>NaN</td>\n",
       "      <td>IL</td>\n",
       "      <td>60601</td>\n",
       "    </tr>\n",
       "    <tr>\n",
       "      <th>17</th>\n",
       "      <td>NaN</td>\n",
       "      <td>NEXTGEN TECHNOLOGIES</td>\n",
       "      <td>NaN</td>\n",
       "      <td>WA</td>\n",
       "      <td>98101</td>\n",
       "    </tr>\n",
       "    <tr>\n",
       "      <th>18</th>\n",
       "      <td>NaN</td>\n",
       "      <td>FUTURE MEDIA LLC</td>\n",
       "      <td>NaN</td>\n",
       "      <td>FL</td>\n",
       "      <td>33101</td>\n",
       "    </tr>\n",
       "    <tr>\n",
       "      <th>19</th>\n",
       "      <td>NaN</td>\n",
       "      <td>VISIONARY AV GRP</td>\n",
       "      <td>NaN</td>\n",
       "      <td>GA</td>\n",
       "      <td>30301</td>\n",
       "    </tr>\n",
       "    <tr>\n",
       "      <th>20</th>\n",
       "      <td>NaN</td>\n",
       "      <td>DISPLAY MASTER INC</td>\n",
       "      <td>NaN</td>\n",
       "      <td>NC</td>\n",
       "      <td>27513</td>\n",
       "    </tr>\n",
       "    <tr>\n",
       "      <th>21</th>\n",
       "      <td>NaN</td>\n",
       "      <td>THE DISPLAY STORE</td>\n",
       "      <td>NaN</td>\n",
       "      <td>MO</td>\n",
       "      <td>63101</td>\n",
       "    </tr>\n",
       "    <tr>\n",
       "      <th>22</th>\n",
       "      <td>NaN</td>\n",
       "      <td>AV TECH CENTRAL</td>\n",
       "      <td>NaN</td>\n",
       "      <td>MI</td>\n",
       "      <td>48201</td>\n",
       "    </tr>\n",
       "    <tr>\n",
       "      <th>23</th>\n",
       "      <td>NaN</td>\n",
       "      <td>EASTERN DIGITAL PARTNERS</td>\n",
       "      <td>NaN</td>\n",
       "      <td>NY</td>\n",
       "      <td>11201</td>\n",
       "    </tr>\n",
       "    <tr>\n",
       "      <th>24</th>\n",
       "      <td>NaN</td>\n",
       "      <td>WESTERN DISPLAY NETWORK</td>\n",
       "      <td>NaN</td>\n",
       "      <td>CA</td>\n",
       "      <td>95814</td>\n",
       "    </tr>\n",
       "  </tbody>\n",
       "</table>\n",
       "</div>"
      ],
      "text/plain": [
       "     acct_num                  customer_name  acct_group bill_to_zip  \\\n",
       "0   DIV000001              DIVINIFIED - EAST  Divinified          NY   \n",
       "1   DIV000002              DIVINIFIED - WEST  Divinified          CA   \n",
       "2   APP000003                APPLE CORPORATE         NaN          CA   \n",
       "3   VID000004              VIDEO SYSTEMS INC         NaN          ON   \n",
       "4   DIS000005         DISPLAY TECHNIQUES LTD         NaN          IL   \n",
       "5   ELE000006           ELEMENT DISPLAYS INC         NaN          OK   \n",
       "0         NaN          DIVINIFIED INC - EAST         NaN          NY   \n",
       "1         NaN       DIVINIFIED - WEST REGION         NaN          CA   \n",
       "2         NaN                    APPLE CORP.         NaN          CA   \n",
       "3         NaN                APPLE CORPORATE         NaN          CA   \n",
       "4         NaN              ****VIDEO SYS INC         NaN          ON   \n",
       "5         NaN                  VIDEO SYSTEMS         NaN          ON   \n",
       "6         NaN               DISPLAY TECH LTD         NaN          IL   \n",
       "7         NaN        DISPLAY  TECHNIQUES LTD         NaN          IL   \n",
       "8         NaN               ELEMENT DISPLAYS         NaN          OK   \n",
       "9         NaN           ELEMENT DISPLAY INC.         NaN          OK   \n",
       "10        NaN               GLOBAL AV SUPPLY         NaN          TX   \n",
       "11        NaN           NATIONAL MEDIA GROUP         NaN          TX   \n",
       "12        NaN         ELITE PRESENTATION INC         NaN          NJ   \n",
       "13        NaN               PREMIER SCREENS          NaN          AZ   \n",
       "14        NaN       VISUAL DISPLAY SOLUTIONS         NaN          CO   \n",
       "15        NaN                  DISPLAY WORLD         NaN          NV   \n",
       "16        NaN                    CORE PRO AV         NaN          IL   \n",
       "17        NaN           NEXTGEN TECHNOLOGIES         NaN          WA   \n",
       "18        NaN               FUTURE MEDIA LLC         NaN          FL   \n",
       "19        NaN               VISIONARY AV GRP         NaN          GA   \n",
       "20        NaN             DISPLAY MASTER INC         NaN          NC   \n",
       "21        NaN              THE DISPLAY STORE         NaN          MO   \n",
       "22        NaN                AV TECH CENTRAL         NaN          MI   \n",
       "23        NaN       EASTERN DIGITAL PARTNERS         NaN          NY   \n",
       "24        NaN        WESTERN DISPLAY NETWORK         NaN          CA   \n",
       "\n",
       "   bill_to_state  \n",
       "0     10001-8525  \n",
       "1          90210  \n",
       "2     95014-8764  \n",
       "3        L3R 4C1  \n",
       "4     60502-1124  \n",
       "5     73128-9487  \n",
       "0          10001  \n",
       "1          90210  \n",
       "2     95014-8854  \n",
       "3      950148854  \n",
       "4        L3R 4C1  \n",
       "5        L3R 4C1  \n",
       "6          60502  \n",
       "7          60502  \n",
       "8          73128  \n",
       "9          73128  \n",
       "10         75201  \n",
       "11         77001  \n",
       "12          7097  \n",
       "13         85001  \n",
       "14         80202  \n",
       "15    89101-7412  \n",
       "16         60601  \n",
       "17         98101  \n",
       "18         33101  \n",
       "19         30301  \n",
       "20         27513  \n",
       "21         63101  \n",
       "22         48201  \n",
       "23         11201  \n",
       "24         95814  "
      ]
     },
     "execution_count": 11,
     "metadata": {},
     "output_type": "execute_result"
    }
   ],
   "source": [
    "print(df.columns)\n",
    "df"
   ]
  },
  {
   "cell_type": "code",
   "execution_count": null,
   "id": "8d7b962f",
   "metadata": {},
   "outputs": [
    {
     "data": {
      "text/plain": [
       "['y ', 'V ', 'c.']"
      ]
     },
     "execution_count": 44,
     "metadata": {},
     "output_type": "execute_result"
    }
   ],
   "source": [
    "import re\n",
    "pattern = re.compile(r'\\W\\')\n",
    "test_str = \"Company AV Inc.\"\n",
    "mo = re.findall(pattern, test_str)\n",
    "mo"
   ]
  }
 ],
 "metadata": {
  "kernelspec": {
   "display_name": "venv",
   "language": "python",
   "name": "python3"
  },
  "language_info": {
   "codemirror_mode": {
    "name": "ipython",
    "version": 3
   },
   "file_extension": ".py",
   "mimetype": "text/x-python",
   "name": "python",
   "nbconvert_exporter": "python",
   "pygments_lexer": "ipython3",
   "version": "3.12.6"
  }
 },
 "nbformat": 4,
 "nbformat_minor": 5
}
