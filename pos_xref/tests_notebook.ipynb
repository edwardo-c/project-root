{
 "cells": [
  {
   "cell_type": "code",
   "execution_count": 17,
   "id": "cd3fb8f0",
   "metadata": {},
   "outputs": [
    {
     "name": "stdout",
     "output_type": "stream",
     "text": [
      "The autoreload extension is already loaded. To reload it, use:\n",
      "  %reload_ext autoreload\n"
     ]
    }
   ],
   "source": [
    "# Notebook Dev Setup\n",
    "%load_ext autoreload\n",
    "%autoreload 2\n",
    "\n",
    "import sys, os\n",
    "sys.path.append(os.path.abspath(\"..\"))  # Go up one level to root\n",
    "\n",
    "import sys, os\n",
    "\n",
    "def add_project_root():\n",
    "    root = os.path.abspath(\"..\")\n",
    "    if root not in sys.path:\n",
    "        sys.path.append(root)\n",
    "\n",
    "def clean_sys_path():\n",
    "    from collections import OrderedDict\n",
    "    sys.path[:] = list(OrderedDict.fromkeys(sys.path))\n",
    "\n",
    "add_project_root()\n",
    "clean_sys_path()\n"
   ]
  },
  {
   "cell_type": "code",
   "execution_count": 14,
   "id": "e0dc2975",
   "metadata": {},
   "outputs": [
    {
     "data": {
      "application/vnd.microsoft.datawrangler.viewer.v0+json": {
       "columns": [
        {
         "name": "index",
         "rawType": "int64",
         "type": "integer"
        },
        {
         "name": "sold_to_name",
         "rawType": "object",
         "type": "string"
        },
        {
         "name": "bill_to_zip",
         "rawType": "object",
         "type": "string"
        },
        {
         "name": "bill_to_state",
         "rawType": "object",
         "type": "unknown"
        }
       ],
       "conversionMethod": "pd.DataFrame",
       "ref": "f9aab9d0-f0f5-4a2a-b146-314989262dc8",
       "rows": [
        [
         "0",
         "DIVINIFIED INC - EAST",
         "NY",
         "10001"
        ],
        [
         "1",
         "DIVINIFIED - WEST REGION",
         "CA",
         "90210"
        ],
        [
         "2",
         "APPLE CORP.",
         "CA",
         "95014-8854"
        ],
        [
         "3",
         "APPLE CORPORATE",
         "CA",
         "950148854"
        ],
        [
         "4",
         "****VIDEO SYS INC",
         "ON",
         "L3R 4C1"
        ]
       ],
       "shape": {
        "columns": 3,
        "rows": 5
       }
      },
      "text/html": [
       "<div>\n",
       "<style scoped>\n",
       "    .dataframe tbody tr th:only-of-type {\n",
       "        vertical-align: middle;\n",
       "    }\n",
       "\n",
       "    .dataframe tbody tr th {\n",
       "        vertical-align: top;\n",
       "    }\n",
       "\n",
       "    .dataframe thead th {\n",
       "        text-align: right;\n",
       "    }\n",
       "</style>\n",
       "<table border=\"1\" class=\"dataframe\">\n",
       "  <thead>\n",
       "    <tr style=\"text-align: right;\">\n",
       "      <th></th>\n",
       "      <th>sold_to_name</th>\n",
       "      <th>bill_to_zip</th>\n",
       "      <th>bill_to_state</th>\n",
       "    </tr>\n",
       "  </thead>\n",
       "  <tbody>\n",
       "    <tr>\n",
       "      <th>0</th>\n",
       "      <td>DIVINIFIED INC - EAST</td>\n",
       "      <td>NY</td>\n",
       "      <td>10001</td>\n",
       "    </tr>\n",
       "    <tr>\n",
       "      <th>1</th>\n",
       "      <td>DIVINIFIED - WEST REGION</td>\n",
       "      <td>CA</td>\n",
       "      <td>90210</td>\n",
       "    </tr>\n",
       "    <tr>\n",
       "      <th>2</th>\n",
       "      <td>APPLE CORP.</td>\n",
       "      <td>CA</td>\n",
       "      <td>95014-8854</td>\n",
       "    </tr>\n",
       "    <tr>\n",
       "      <th>3</th>\n",
       "      <td>APPLE CORPORATE</td>\n",
       "      <td>CA</td>\n",
       "      <td>950148854</td>\n",
       "    </tr>\n",
       "    <tr>\n",
       "      <th>4</th>\n",
       "      <td>****VIDEO SYS INC</td>\n",
       "      <td>ON</td>\n",
       "      <td>L3R 4C1</td>\n",
       "    </tr>\n",
       "  </tbody>\n",
       "</table>\n",
       "</div>"
      ],
      "text/plain": [
       "               sold_to_name bill_to_zip bill_to_state\n",
       "0     DIVINIFIED INC - EAST          NY         10001\n",
       "1  DIVINIFIED - WEST REGION          CA         90210\n",
       "2               APPLE CORP.          CA    95014-8854\n",
       "3           APPLE CORPORATE          CA     950148854\n",
       "4         ****VIDEO SYS INC          ON       L3R 4C1"
      ]
     },
     "execution_count": 14,
     "metadata": {},
     "output_type": "execute_result"
    }
   ],
   "source": [
    "# Return customers data frame for specified year, test output\n",
    "from pos_xref.shared.pos_config import get_raw_pos_customers\n",
    "df = get_raw_pos_customers(year=2025, test_env=True)\n",
    "df.head()"
   ]
  },
  {
   "cell_type": "code",
   "execution_count": 5,
   "id": "a9203fc3",
   "metadata": {},
   "outputs": [],
   "source": [
    "from utils.utils_io import gen_safe_excel_file\n",
    "test_file_path = r\"C:\\Users\\eddiec11us\\Documents\\Abt Neptune Price Model.xlsx\"\n",
    "new_file_path = gen_safe_excel_file(test_file_path)"
   ]
  },
  {
   "cell_type": "code",
   "execution_count": null,
   "id": "b4c3760d",
   "metadata": {},
   "outputs": [
    {
     "name": "stdout",
     "output_type": "stream",
     "text": [
      "{'column_a': 'sold_to_name', 'column_b': 'bill_to_zip', 'column_c': 'bill_to_state'}\n"
     ]
    }
   ],
   "source": [
    "# build columns test\n",
    "import pandas as pd\n",
    "from pos_xref.shared.pos_config import _build_column_rename_map\n",
    "df = pd.DataFrame({'column_a':[1,2,3], 'column_b':[4,5,6], 'column_c':[7,8,9]})\n",
    "print(_build_column_rename_map(df.columns))"
   ]
  },
  {
   "cell_type": "code",
   "execution_count": 24,
   "id": "a94882a5",
   "metadata": {},
   "outputs": [],
   "source": [
    "from pos_xref.shared.direct_config import DirectCustomersFileInfo\n",
    "from pos_xref.shared.direct_config import capture_direct_customers_df\n",
    "info = DirectCustomersFileInfo(True)\n",
    "df = capture_direct_customers_df(True)"
   ]
  },
  {
   "cell_type": "code",
   "execution_count": 25,
   "id": "c65c48fd",
   "metadata": {},
   "outputs": [
    {
     "data": {
      "application/vnd.microsoft.datawrangler.viewer.v0+json": {
       "columns": [
        {
         "name": "index",
         "rawType": "int64",
         "type": "integer"
        },
        {
         "name": "Customer ID",
         "rawType": "object",
         "type": "string"
        },
        {
         "name": "Customer Name",
         "rawType": "object",
         "type": "string"
        },
        {
         "name": "Account Group",
         "rawType": "object",
         "type": "unknown"
        },
        {
         "name": "State",
         "rawType": "object",
         "type": "string"
        },
        {
         "name": "Postal Code",
         "rawType": "object",
         "type": "unknown"
        }
       ],
       "conversionMethod": "pd.DataFrame",
       "ref": "add4582c-58c9-4df1-bdf9-a98bab53ae3f",
       "rows": [
        [
         "0",
         "DIV000001",
         "DIVINIFIED - EAST",
         "Divinified",
         "NY",
         "10001-8525"
        ],
        [
         "1",
         "DIV000002",
         "DIVINIFIED - WEST",
         "Divinified",
         "CA",
         "90210"
        ],
        [
         "2",
         "APP000003",
         "APPLE CORPORATE",
         null,
         "CA",
         "95014-8764"
        ],
        [
         "3",
         "VID000004",
         "VIDEO SYSTEMS INC",
         null,
         "ON",
         "L3R 4C1"
        ],
        [
         "4",
         "DIS000005",
         "DISPLAY TECHNIQUES LTD",
         null,
         "IL",
         "60502-1124"
        ],
        [
         "5",
         "ELE000006",
         "ELEMENT DISPLAYS INC",
         null,
         "OK",
         "73128-9487"
        ]
       ],
       "shape": {
        "columns": 5,
        "rows": 6
       }
      },
      "text/html": [
       "<div>\n",
       "<style scoped>\n",
       "    .dataframe tbody tr th:only-of-type {\n",
       "        vertical-align: middle;\n",
       "    }\n",
       "\n",
       "    .dataframe tbody tr th {\n",
       "        vertical-align: top;\n",
       "    }\n",
       "\n",
       "    .dataframe thead th {\n",
       "        text-align: right;\n",
       "    }\n",
       "</style>\n",
       "<table border=\"1\" class=\"dataframe\">\n",
       "  <thead>\n",
       "    <tr style=\"text-align: right;\">\n",
       "      <th></th>\n",
       "      <th>Customer ID</th>\n",
       "      <th>Customer Name</th>\n",
       "      <th>Account Group</th>\n",
       "      <th>State</th>\n",
       "      <th>Postal Code</th>\n",
       "    </tr>\n",
       "  </thead>\n",
       "  <tbody>\n",
       "    <tr>\n",
       "      <th>0</th>\n",
       "      <td>DIV000001</td>\n",
       "      <td>DIVINIFIED - EAST</td>\n",
       "      <td>Divinified</td>\n",
       "      <td>NY</td>\n",
       "      <td>10001-8525</td>\n",
       "    </tr>\n",
       "    <tr>\n",
       "      <th>1</th>\n",
       "      <td>DIV000002</td>\n",
       "      <td>DIVINIFIED - WEST</td>\n",
       "      <td>Divinified</td>\n",
       "      <td>CA</td>\n",
       "      <td>90210</td>\n",
       "    </tr>\n",
       "    <tr>\n",
       "      <th>2</th>\n",
       "      <td>APP000003</td>\n",
       "      <td>APPLE CORPORATE</td>\n",
       "      <td>NaN</td>\n",
       "      <td>CA</td>\n",
       "      <td>95014-8764</td>\n",
       "    </tr>\n",
       "    <tr>\n",
       "      <th>3</th>\n",
       "      <td>VID000004</td>\n",
       "      <td>VIDEO SYSTEMS INC</td>\n",
       "      <td>NaN</td>\n",
       "      <td>ON</td>\n",
       "      <td>L3R 4C1</td>\n",
       "    </tr>\n",
       "    <tr>\n",
       "      <th>4</th>\n",
       "      <td>DIS000005</td>\n",
       "      <td>DISPLAY TECHNIQUES LTD</td>\n",
       "      <td>NaN</td>\n",
       "      <td>IL</td>\n",
       "      <td>60502-1124</td>\n",
       "    </tr>\n",
       "    <tr>\n",
       "      <th>5</th>\n",
       "      <td>ELE000006</td>\n",
       "      <td>ELEMENT DISPLAYS INC</td>\n",
       "      <td>NaN</td>\n",
       "      <td>OK</td>\n",
       "      <td>73128-9487</td>\n",
       "    </tr>\n",
       "  </tbody>\n",
       "</table>\n",
       "</div>"
      ],
      "text/plain": [
       "  Customer ID           Customer Name Account Group State Postal Code\n",
       "0   DIV000001       DIVINIFIED - EAST    Divinified    NY  10001-8525\n",
       "1   DIV000002       DIVINIFIED - WEST    Divinified    CA       90210\n",
       "2   APP000003         APPLE CORPORATE           NaN    CA  95014-8764\n",
       "3   VID000004       VIDEO SYSTEMS INC           NaN    ON     L3R 4C1\n",
       "4   DIS000005  DISPLAY TECHNIQUES LTD           NaN    IL  60502-1124\n",
       "5   ELE000006    ELEMENT DISPLAYS INC           NaN    OK  73128-9487"
      ]
     },
     "execution_count": 25,
     "metadata": {},
     "output_type": "execute_result"
    }
   ],
   "source": [
    "df"
   ]
  }
 ],
 "metadata": {
  "kernelspec": {
   "display_name": "venv",
   "language": "python",
   "name": "python3"
  },
  "language_info": {
   "codemirror_mode": {
    "name": "ipython",
    "version": 3
   },
   "file_extension": ".py",
   "mimetype": "text/x-python",
   "name": "python",
   "nbconvert_exporter": "python",
   "pygments_lexer": "ipython3",
   "version": "3.12.6"
  }
 },
 "nbformat": 4,
 "nbformat_minor": 5
}
