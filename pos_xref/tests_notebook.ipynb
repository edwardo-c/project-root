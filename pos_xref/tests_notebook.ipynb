{
 "cells": [
  {
   "cell_type": "code",
   "execution_count": 78,
   "id": "cd3fb8f0",
   "metadata": {},
   "outputs": [
    {
     "name": "stdout",
     "output_type": "stream",
     "text": [
      "The autoreload extension is already loaded. To reload it, use:\n",
      "  %reload_ext autoreload\n"
     ]
    }
   ],
   "source": [
    "# Notebook Dev Setup\n",
    "%load_ext autoreload\n",
    "%autoreload 2\n",
    "\n",
    "import sys, os\n",
    "sys.path.append(os.path.abspath(\"..\"))  # Go up one level to root\n",
    "\n",
    "import sys, os\n",
    "\n",
    "def add_project_root():\n",
    "    root = os.path.abspath(\"..\")\n",
    "    if root not in sys.path:\n",
    "        sys.path.append(root)\n",
    "\n",
    "def clean_sys_path():\n",
    "    from collections import OrderedDict\n",
    "    sys.path[:] = list(OrderedDict.fromkeys(sys.path))\n",
    "\n",
    "add_project_root()\n",
    "clean_sys_path()\n"
   ]
  },
  {
   "cell_type": "code",
   "execution_count": 14,
   "id": "e0dc2975",
   "metadata": {},
   "outputs": [
    {
     "data": {
      "application/vnd.microsoft.datawrangler.viewer.v0+json": {
       "columns": [
        {
         "name": "index",
         "rawType": "int64",
         "type": "integer"
        },
        {
         "name": "sold_to_name",
         "rawType": "object",
         "type": "string"
        },
        {
         "name": "bill_to_zip",
         "rawType": "object",
         "type": "string"
        },
        {
         "name": "bill_to_state",
         "rawType": "object",
         "type": "unknown"
        }
       ],
       "conversionMethod": "pd.DataFrame",
       "ref": "f9aab9d0-f0f5-4a2a-b146-314989262dc8",
       "rows": [
        [
         "0",
         "DIVINIFIED INC - EAST",
         "NY",
         "10001"
        ],
        [
         "1",
         "DIVINIFIED - WEST REGION",
         "CA",
         "90210"
        ],
        [
         "2",
         "APPLE CORP.",
         "CA",
         "95014-8854"
        ],
        [
         "3",
         "APPLE CORPORATE",
         "CA",
         "950148854"
        ],
        [
         "4",
         "****VIDEO SYS INC",
         "ON",
         "L3R 4C1"
        ]
       ],
       "shape": {
        "columns": 3,
        "rows": 5
       }
      },
      "text/html": [
       "<div>\n",
       "<style scoped>\n",
       "    .dataframe tbody tr th:only-of-type {\n",
       "        vertical-align: middle;\n",
       "    }\n",
       "\n",
       "    .dataframe tbody tr th {\n",
       "        vertical-align: top;\n",
       "    }\n",
       "\n",
       "    .dataframe thead th {\n",
       "        text-align: right;\n",
       "    }\n",
       "</style>\n",
       "<table border=\"1\" class=\"dataframe\">\n",
       "  <thead>\n",
       "    <tr style=\"text-align: right;\">\n",
       "      <th></th>\n",
       "      <th>sold_to_name</th>\n",
       "      <th>bill_to_zip</th>\n",
       "      <th>bill_to_state</th>\n",
       "    </tr>\n",
       "  </thead>\n",
       "  <tbody>\n",
       "    <tr>\n",
       "      <th>0</th>\n",
       "      <td>DIVINIFIED INC - EAST</td>\n",
       "      <td>NY</td>\n",
       "      <td>10001</td>\n",
       "    </tr>\n",
       "    <tr>\n",
       "      <th>1</th>\n",
       "      <td>DIVINIFIED - WEST REGION</td>\n",
       "      <td>CA</td>\n",
       "      <td>90210</td>\n",
       "    </tr>\n",
       "    <tr>\n",
       "      <th>2</th>\n",
       "      <td>APPLE CORP.</td>\n",
       "      <td>CA</td>\n",
       "      <td>95014-8854</td>\n",
       "    </tr>\n",
       "    <tr>\n",
       "      <th>3</th>\n",
       "      <td>APPLE CORPORATE</td>\n",
       "      <td>CA</td>\n",
       "      <td>950148854</td>\n",
       "    </tr>\n",
       "    <tr>\n",
       "      <th>4</th>\n",
       "      <td>****VIDEO SYS INC</td>\n",
       "      <td>ON</td>\n",
       "      <td>L3R 4C1</td>\n",
       "    </tr>\n",
       "  </tbody>\n",
       "</table>\n",
       "</div>"
      ],
      "text/plain": [
       "               sold_to_name bill_to_zip bill_to_state\n",
       "0     DIVINIFIED INC - EAST          NY         10001\n",
       "1  DIVINIFIED - WEST REGION          CA         90210\n",
       "2               APPLE CORP.          CA    95014-8854\n",
       "3           APPLE CORPORATE          CA     950148854\n",
       "4         ****VIDEO SYS INC          ON       L3R 4C1"
      ]
     },
     "execution_count": 14,
     "metadata": {},
     "output_type": "execute_result"
    }
   ],
   "source": [
    "# Return customers data frame for specified year, test output\n",
    "from pos_xref.shared.pos_config import get_raw_pos_customers\n",
    "df = get_raw_pos_customers(year=2025, test_env=True)\n",
    "df.head()"
   ]
  },
  {
   "cell_type": "code",
   "execution_count": 5,
   "id": "a9203fc3",
   "metadata": {},
   "outputs": [],
   "source": [
    "from utils.utils_io import gen_safe_excel_file\n",
    "test_file_path = r\"C:\\Users\\eddiec11us\\Documents\\Abt Neptune Price Model.xlsx\"\n",
    "new_file_path = gen_safe_excel_file(test_file_path)"
   ]
  },
  {
   "cell_type": "code",
   "execution_count": null,
   "id": "b4c3760d",
   "metadata": {},
   "outputs": [
    {
     "name": "stdout",
     "output_type": "stream",
     "text": [
      "{'column_a': 'sold_to_name', 'column_b': 'bill_to_zip', 'column_c': 'bill_to_state'}\n"
     ]
    }
   ],
   "source": [
    "# build columns test\n",
    "import pandas as pd\n",
    "from pos_xref.shared.pos_config import _build_column_rename_map\n",
    "df = pd.DataFrame({'column_a':[1,2,3], 'column_b':[4,5,6], 'column_c':[7,8,9]})\n",
    "print(_build_column_rename_map(df.columns))"
   ]
  },
  {
   "cell_type": "code",
   "execution_count": 79,
   "id": "463c2cca",
   "metadata": {},
   "outputs": [
    {
     "name": "stderr",
     "output_type": "stream",
     "text": [
      "<string>:6: FutureWarning: Series.__getitem__ treating keys as positions is deprecated. In a future version, integer keys will always be treated as labels (consistent with DataFrame behavior). To access a value by position, use `ser.iloc[pos]`\n"
     ]
    }
   ],
   "source": [
    "from pos_xref.shared.direct_config import compile_direct_custs\n",
    "d_custs = compile_direct_custs()"
   ]
  },
  {
   "cell_type": "code",
   "execution_count": 80,
   "id": "60809c1e",
   "metadata": {},
   "outputs": [
    {
     "data": {
      "text/plain": [
       "[<pos_xref.shared.direct_config.Customer at 0x1f2481da2d0>,\n",
       " <pos_xref.shared.direct_config.Customer at 0x1f24778bef0>,\n",
       " <pos_xref.shared.direct_config.Customer at 0x1f2481d9cd0>,\n",
       " <pos_xref.shared.direct_config.Customer at 0x1f2481d0680>,\n",
       " <pos_xref.shared.direct_config.Customer at 0x1f2481da8d0>,\n",
       " <pos_xref.shared.direct_config.Customer at 0x1f249f6ebd0>]"
      ]
     },
     "execution_count": 80,
     "metadata": {},
     "output_type": "execute_result"
    }
   ],
   "source": [
    "d_custs"
   ]
  }
 ],
 "metadata": {
  "kernelspec": {
   "display_name": "venv",
   "language": "python",
   "name": "python3"
  },
  "language_info": {
   "codemirror_mode": {
    "name": "ipython",
    "version": 3
   },
   "file_extension": ".py",
   "mimetype": "text/x-python",
   "name": "python",
   "nbconvert_exporter": "python",
   "pygments_lexer": "ipython3",
   "version": "3.12.6"
  }
 },
 "nbformat": 4,
 "nbformat_minor": 5
}
