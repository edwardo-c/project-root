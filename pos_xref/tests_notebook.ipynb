{
 "cells": [
  {
   "cell_type": "code",
   "execution_count": 12,
   "id": "cd3fb8f0",
   "metadata": {},
   "outputs": [
    {
     "name": "stdout",
     "output_type": "stream",
     "text": [
      "The autoreload extension is already loaded. To reload it, use:\n",
      "  %reload_ext autoreload\n"
     ]
    }
   ],
   "source": [
    "# Notebook Dev Setup\n",
    "%load_ext autoreload\n",
    "%autoreload 2\n",
    "\n",
    "import sys, os\n",
    "sys.path.append(os.path.abspath(\"..\"))  # Go up one level to root\n",
    "\n",
    "import sys, os\n",
    "\n",
    "def add_project_root():\n",
    "    root = os.path.abspath(\"..\")\n",
    "    if root not in sys.path:\n",
    "        sys.path.append(root)\n",
    "\n",
    "def clean_sys_path():\n",
    "    from collections import OrderedDict\n",
    "    sys.path[:] = list(OrderedDict.fromkeys(sys.path))\n",
    "\n",
    "add_project_root()\n",
    "clean_sys_path()\n"
   ]
  },
  {
   "cell_type": "code",
   "execution_count": null,
   "id": "7e4fb195",
   "metadata": {},
   "outputs": [],
   "source": []
  }
 ],
 "metadata": {
  "kernelspec": {
   "display_name": "venv",
   "language": "python",
   "name": "python3"
  },
  "language_info": {
   "codemirror_mode": {
    "name": "ipython",
    "version": 3
   },
   "file_extension": ".py",
   "mimetype": "text/x-python",
   "name": "python",
   "nbconvert_exporter": "python",
   "pygments_lexer": "ipython3",
   "version": "3.12.6"
  }
 },
 "nbformat": 4,
 "nbformat_minor": 5
}
